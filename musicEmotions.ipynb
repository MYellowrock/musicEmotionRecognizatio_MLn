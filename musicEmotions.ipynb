{
 "cells": [
  {
   "cell_type": "code",
   "execution_count": 1,
   "metadata": {},
   "outputs": [],
   "source": [
    "import pandas as pd\n",
    "import numpy as np\n",
    "\n",
    "from sklearn.model_selection import train_test_split\n",
    "from sklearn.ensemble import RandomForestClassifier\n",
    "from sklearn.neighbors import KNeighborsClassifier\n",
    "from sklearn.naive_bayes import GaussianNB\n",
    "\n",
    "from sklearn.model_selection import cross_val_score\n",
    "from sklearn.model_selection import KFold\n",
    "\n",
    "import matplotlib.pyplot as plt"
   ]
  },
  {
   "cell_type": "code",
   "execution_count": 3,
   "metadata": {},
   "outputs": [
    {
     "data": {
      "text/plain": [
       "Index(['Class', '_RMSenergy_Mean', '_Lowenergy_Mean', '_Fluctuation_Mean',\n",
       "       '_Tempo_Mean', '_MFCC_Mean_1', '_MFCC_Mean_2', '_MFCC_Mean_3',\n",
       "       '_MFCC_Mean_4', '_MFCC_Mean_5', '_MFCC_Mean_6', '_MFCC_Mean_7',\n",
       "       '_MFCC_Mean_8', '_MFCC_Mean_9', '_MFCC_Mean_10', '_MFCC_Mean_11',\n",
       "       '_MFCC_Mean_12', '_MFCC_Mean_13', '_Roughness_Mean', '_Roughness_Slope',\n",
       "       '_Zero-crossingrate_Mean', '_AttackTime_Mean', '_AttackTime_Slope',\n",
       "       '_Rolloff_Mean', '_Eventdensity_Mean', '_Pulseclarity_Mean',\n",
       "       '_Brightness_Mean', '_Spectralcentroid_Mean', '_Spectralspread_Mean',\n",
       "       '_Spectralskewness_Mean', '_Spectralkurtosis_Mean',\n",
       "       '_Spectralflatness_Mean', '_EntropyofSpectrum_Mean',\n",
       "       '_Chromagram_Mean_1', '_Chromagram_Mean_2', '_Chromagram_Mean_3',\n",
       "       '_Chromagram_Mean_4', '_Chromagram_Mean_5', '_Chromagram_Mean_6',\n",
       "       '_Chromagram_Mean_7', '_Chromagram_Mean_8', '_Chromagram_Mean_9',\n",
       "       '_Chromagram_Mean_10', '_Chromagram_Mean_11', '_Chromagram_Mean_12',\n",
       "       '_HarmonicChangeDetectionFunction_Mean',\n",
       "       '_HarmonicChangeDetectionFunction_Std',\n",
       "       '_HarmonicChangeDetectionFunction_Slope',\n",
       "       '_HarmonicChangeDetectionFunction_PeriodFreq',\n",
       "       '_HarmonicChangeDetectionFunction_PeriodAmp',\n",
       "       '_HarmonicChangeDetectionFunction_PeriodEntropy'],\n",
       "      dtype='object')"
      ]
     },
     "execution_count": 3,
     "metadata": {},
     "output_type": "execute_result"
    }
   ],
   "source": [
    "df = pd.DataFrame(pd.read_csv(\"acoustic_Features.csv\"))\n",
    "df = df.copy()\n",
    "df.columns"
   ]
  },
  {
   "cell_type": "code",
   "execution_count": 4,
   "metadata": {},
   "outputs": [],
   "source": [
    "from sklearn.metrics import make_scorer, accuracy_score, precision_score, recall_score, f1_score\n",
    "\n",
    "scoring = {'accuracy' : make_scorer(accuracy_score), \n",
    "           'precision' : make_scorer(precision_score),\n",
    "           'recall' : make_scorer(recall_score), \n",
    "           'f1_score' : make_scorer(f1_score)}"
   ]
  },
  {
   "cell_type": "code",
   "execution_count": 5,
   "metadata": {},
   "outputs": [],
   "source": [
    "X = df.drop([\"Class\"], axis = 1)\n",
    "y = df[\"Class\"]"
   ]
  },
  {
   "cell_type": "markdown",
   "metadata": {},
   "source": [
    "### Naive-Bayes"
   ]
  },
  {
   "cell_type": "code",
   "execution_count": 6,
   "metadata": {},
   "outputs": [],
   "source": [
    "cross_list_accuracy_naive = []\n",
    "cross_list_precision_naive = []\n",
    "cross_list_recall_naive = []\n",
    "cross_list_f1_naive = []\n",
    "\n",
    "kfold_naive = KFold(n_splits=10, shuffle=True, random_state=42)\n",
    "Kfold_model_naive = GaussianNB()\n",
    "\n",
    "for i in range(0,10):\n",
    "    cross_list_accuracy_naive.append(cross_val_score(Kfold_model_naive, X, y, cv = kfold_naive, scoring=make_scorer(accuracy_score)).mean())\n",
    "    cross_list_precision_naive.append(cross_val_score(Kfold_model_naive, X, y, cv = kfold_naive, scoring=make_scorer(precision_score, average = \"weighted\")).mean())\n",
    "    cross_list_recall_naive.append(cross_val_score(Kfold_model_naive, X, y, cv = kfold_naive, scoring=make_scorer(recall_score, average = \"weighted\")).mean())\n",
    "    cross_list_f1_naive.append(cross_val_score(Kfold_model_naive, X, y, cv = kfold_naive, scoring=make_scorer(f1_score, average = \"weighted\")).mean())\n",
    "\n",
    "\n"
   ]
  },
  {
   "cell_type": "code",
   "execution_count": 7,
   "metadata": {},
   "outputs": [
    {
     "data": {
      "text/plain": [
       "[0.6825,\n",
       " 0.6825,\n",
       " 0.6825,\n",
       " 0.6825,\n",
       " 0.6825,\n",
       " 0.6825,\n",
       " 0.6825,\n",
       " 0.6825,\n",
       " 0.6825,\n",
       " 0.6825]"
      ]
     },
     "execution_count": 7,
     "metadata": {},
     "output_type": "execute_result"
    }
   ],
   "source": [
    "cross_list_accuracy_naive\n"
   ]
  },
  {
   "cell_type": "markdown",
   "metadata": {},
   "source": [
    "#### Naive-Bayes F1 score"
   ]
  },
  {
   "cell_type": "code",
   "execution_count": 6,
   "metadata": {},
   "outputs": [
    {
     "data": {
      "text/plain": [
       "0.6699698765375109"
      ]
     },
     "execution_count": 6,
     "metadata": {},
     "output_type": "execute_result"
    }
   ],
   "source": [
    "total_f1_naive = 0\n",
    "avg_f1_naive = 0\n",
    "\n",
    "for i in range(0,10):\n",
    "    total_f1_naive += cross_list_f1_naive[i]\n",
    "    \n",
    "avg_f1_naive = total_f1_naive / 10\n",
    "avg_f1_naive\n"
   ]
  },
  {
   "cell_type": "markdown",
   "metadata": {},
   "source": [
    "#### Naive-Bayes Accuracy Score"
   ]
  },
  {
   "cell_type": "code",
   "execution_count": 7,
   "metadata": {},
   "outputs": [
    {
     "data": {
      "text/plain": [
       "0.6825"
      ]
     },
     "execution_count": 7,
     "metadata": {},
     "output_type": "execute_result"
    }
   ],
   "source": [
    "total_accuracy_naive = 0\n",
    "avg_accuracy_naive = 0\n",
    "\n",
    "for i in range(0,10):\n",
    "    total_accuracy_naive += cross_list_accuracy_naive[i]\n",
    "    \n",
    "avg_accuracy_naive = total_accuracy_naive / 10\n",
    "avg_accuracy_naive"
   ]
  },
  {
   "cell_type": "markdown",
   "metadata": {},
   "source": [
    "#### Naive-Bayes Recall Score"
   ]
  },
  {
   "cell_type": "code",
   "execution_count": 8,
   "metadata": {},
   "outputs": [
    {
     "data": {
      "text/plain": [
       "0.6825"
      ]
     },
     "execution_count": 8,
     "metadata": {},
     "output_type": "execute_result"
    }
   ],
   "source": [
    "total_recall_naive = 0\n",
    "avg_recall_naive = 0\n",
    "\n",
    "for i in range(0,10):\n",
    "    total_recall_naive += cross_list_recall_naive[i]\n",
    "    \n",
    "avg_recall_naive = total_recall_naive / 10\n",
    "avg_recall_naive"
   ]
  },
  {
   "cell_type": "markdown",
   "metadata": {},
   "source": [
    "#### Naive-Bayes Precision Score"
   ]
  },
  {
   "cell_type": "code",
   "execution_count": 9,
   "metadata": {},
   "outputs": [
    {
     "data": {
      "text/plain": [
       "0.7010925844988344"
      ]
     },
     "execution_count": 9,
     "metadata": {},
     "output_type": "execute_result"
    }
   ],
   "source": [
    "total_precision_naive = 0\n",
    "avg_precision_naive = 0\n",
    "\n",
    "for i in range(0,10):\n",
    "    total_precision_naive += cross_list_precision_naive[i]\n",
    "    \n",
    "avg_precision_naive = total_precision_naive / 10\n",
    "avg_precision_naive"
   ]
  },
  {
   "cell_type": "code",
   "execution_count": 10,
   "metadata": {},
   "outputs": [
    {
     "data": {
      "text/plain": [
       "Text(0.5, 1.0, 'Results')"
      ]
     },
     "execution_count": 10,
     "metadata": {},
     "output_type": "execute_result"
    },
    {
     "data": {
      "image/png": "[encoded data removed]",
      "text/plain": [
       "<Figure size 432x288 with 1 Axes>"
      ]
     },
     "metadata": {
      "needs_background": "light"
     },
     "output_type": "display_data"
    }
   ],
   "source": [
    "x_index = 1\n",
    "en = 0.20\n",
    "\n",
    "fig = plt.figure()\n",
    "ax = plt.axes()\n",
    "\n",
    "plt.bar(x_index-en, avg_accuracy_naive, width=en, label = \"accuracy\")\n",
    "plt.bar(x_index, avg_f1_naive, width=en, label = \"F1\")\n",
    "plt.bar(x_index+en, avg_precision_naive, width=en, label = \"Precision\")\n",
    "plt.bar(x_index+2*en, avg_recall_naive, width=en, label = \"Recall\")\n",
    "\n",
    "plt.legend()\n",
    "\n",
    "plt.xlabel(\"KFold Values\")\n",
    "plt.ylabel(\"% values\")\n",
    "plt.title(\"Results\")"
   ]
  },
  {
   "cell_type": "markdown",
   "metadata": {},
   "source": [
    "### Random Forests"
   ]
  },
  {
   "cell_type": "code",
   "execution_count": 11,
   "metadata": {},
   "outputs": [],
   "source": [
    "cross_list_accuracy_rf = []\n",
    "cross_list_precision_rf = []\n",
    "cross_list_recall_rf = []\n",
    "cross_list_f1_rf = []\n",
    "\n",
    "kfold_rf = KFold(n_splits=10, shuffle=True, random_state=55)\n",
    "Kfold_model_rf = RandomForestClassifier()\n",
    "\n",
    "for i in range(0,10):\n",
    "    cross_list_accuracy_rf.append(cross_val_score(Kfold_model_rf, X, y, cv = kfold_rf, scoring=make_scorer(accuracy_score)).mean())\n",
    "    cross_list_precision_rf.append(cross_val_score(Kfold_model_rf, X, y, cv = kfold_rf, scoring=make_scorer(precision_score, average = \"weighted\")).mean())\n",
    "    cross_list_recall_rf.append(cross_val_score(Kfold_model_rf, X, y, cv = kfold_rf, scoring=make_scorer(recall_score, average = \"weighted\")).mean())\n",
    "    cross_list_f1_rf.append(cross_val_score(Kfold_model_rf, X, y, cv = kfold_rf, scoring=make_scorer(f1_score, average = \"weighted\")).mean())"
   ]
  },
  {
   "cell_type": "code",
   "execution_count": 12,
   "metadata": {},
   "outputs": [
    {
     "data": {
      "text/plain": [
       "[0.7899999999999999,\n",
       " 0.8075000000000001,\n",
       " 0.805,\n",
       " 0.7699999999999999,\n",
       " 0.7999999999999999,\n",
       " 0.79,\n",
       " 0.7925000000000001,\n",
       " 0.7825,\n",
       " 0.79,\n",
       " 0.7925000000000001]"
      ]
     },
     "execution_count": 12,
     "metadata": {},
     "output_type": "execute_result"
    }
   ],
   "source": [
    "cross_list_accuracy_rf"
   ]
  },
  {
   "cell_type": "markdown",
   "metadata": {},
   "source": [
    "#### RF F1 score"
   ]
  },
  {
   "cell_type": "code",
   "execution_count": 12,
   "metadata": {},
   "outputs": [
    {
     "data": {
      "text/plain": [
       "0.7941998757627555"
      ]
     },
     "execution_count": 12,
     "metadata": {},
     "output_type": "execute_result"
    }
   ],
   "source": [
    "total_f1_rf = 0\n",
    "avg_f1_rf = 0\n",
    "\n",
    "for i in range(0,10):\n",
    "    total_f1_rf += cross_list_f1_rf[i]\n",
    "    \n",
    "avg_f1_rf = total_f1_rf / 10\n",
    "avg_f1_rf"
   ]
  },
  {
   "cell_type": "markdown",
   "metadata": {},
   "source": [
    "#### RF Accuracy Score"
   ]
  },
  {
   "cell_type": "code",
   "execution_count": 13,
   "metadata": {},
   "outputs": [
    {
     "data": {
      "text/plain": [
       "0.79375"
      ]
     },
     "execution_count": 13,
     "metadata": {},
     "output_type": "execute_result"
    }
   ],
   "source": [
    "total_accuracy_rf = 0\n",
    "avg_accuracy_rf = 0\n",
    "\n",
    "for i in range(0,10):\n",
    "    total_accuracy_rf += cross_list_accuracy_rf[i]\n",
    "    \n",
    "avg_accuracy_rf = total_accuracy_rf / 10\n",
    "avg_accuracy_rf"
   ]
  },
  {
   "cell_type": "markdown",
   "metadata": {},
   "source": [
    "#### RF Recall Score"
   ]
  },
  {
   "cell_type": "code",
   "execution_count": 14,
   "metadata": {},
   "outputs": [
    {
     "data": {
      "text/plain": [
       "0.7955000000000001"
      ]
     },
     "execution_count": 14,
     "metadata": {},
     "output_type": "execute_result"
    }
   ],
   "source": [
    "total_recall_rf = 0\n",
    "avg_recall_rf = 0\n",
    "\n",
    "for i in range(0,10):\n",
    "    total_recall_rf += cross_list_recall_rf[i]\n",
    "    \n",
    "avg_recall_rf = total_recall_rf / 10\n",
    "avg_recall_rf"
   ]
  },
  {
   "cell_type": "markdown",
   "metadata": {},
   "source": [
    "#### RF Precision Score"
   ]
  },
  {
   "cell_type": "code",
   "execution_count": 15,
   "metadata": {},
   "outputs": [
    {
     "data": {
      "text/plain": [
       "0.8207910174180395"
      ]
     },
     "execution_count": 15,
     "metadata": {},
     "output_type": "execute_result"
    }
   ],
   "source": [
    "total_precision_rf = 0\n",
    "avg_precision_rf = 0\n",
    "\n",
    "for i in range(0,10):\n",
    "    total_precision_rf += cross_list_precision_rf[i]\n",
    "    \n",
    "avg_precision_rf = total_precision_rf / 10\n",
    "avg_precision_rf"
   ]
  },
  {
   "cell_type": "code",
   "execution_count": 16,
   "metadata": {},
   "outputs": [
    {
     "data": {
      "text/plain": [
       "Text(0.5, 1.0, 'Results')"
      ]
     },
     "execution_count": 16,
     "metadata": {},
     "output_type": "execute_result"
    },
    {
     "data": {
      "image/png": "[encoded data removed]",
      "text/plain": [
       "<Figure size 432x288 with 1 Axes>"
      ]
     },
     "metadata": {
      "needs_background": "light"
     },
     "output_type": "display_data"
    }
   ],
   "source": [
    "x_index = 1\n",
    "en = 0.20\n",
    "\n",
    "fig = plt.figure()\n",
    "ax = plt.axes()\n",
    "\n",
    "plt.bar(x_index-en, avg_accuracy_rf, width=en, label = \"accuracy\")\n",
    "plt.bar(x_index, avg_f1_rf, width=en, label = \"F1\")\n",
    "plt.bar(x_index+en, avg_precision_rf, width=en, label = \"Precision\")\n",
    "plt.bar(x_index+2*en, avg_recall_rf, width=en, label = \"Recall\")\n",
    "\n",
    "plt.legend()\n",
    "\n",
    "plt.xlabel(\"KFold Values\")\n",
    "plt.ylabel(\"% values\")\n",
    "plt.title(\"Results\")"
   ]
  },
  {
   "cell_type": "markdown",
   "metadata": {},
   "source": [
    "### KNN"
   ]
  },
  {
   "cell_type": "code",
   "execution_count": 20,
   "metadata": {},
   "outputs": [],
   "source": [
    "cross_list_accuracy_knn = []\n",
    "cross_list_precision_knn = []\n",
    "cross_list_recall_knn = []\n",
    "cross_list_f1_knn = []\n",
    "\n",
    "kfold_knn = KFold(n_splits=10, shuffle=True, random_state=65)\n",
    "for i in range(1,30)\n",
    "Kfold_model_knn = KNeighborsClassifier(n_neighbors = i)\n",
    "\n",
    "for i in range(0,10):\n",
    "    cross_list_accuracy_knn.append(cross_val_score(Kfold_model_knn, X, y, cv = kfold_knn, scoring=make_scorer(accuracy_score)).mean())\n",
    "    cross_list_precision_knn.append(cross_val_score(Kfold_model_knn, X, y, cv = kfold_knn, scoring=make_scorer(precision_score, average = \"weighted\")).mean())\n",
    "    cross_list_recall_knn.append(cross_val_score(Kfold_model_knn, X, y, cv = kfold_knn, scoring=make_scorer(recall_score, average = \"weighted\")).mean())\n",
    "    cross_list_f1_knn.append(cross_val_score(Kfold_model_knn, X, y, cv = kfold_knn, scoring=make_scorer(f1_score, average = \"weighted\")).mean())"
   ]
  },
  {
   "cell_type": "code",
   "execution_count": 21,
   "metadata": {},
   "outputs": [
    {
     "data": {
      "text/plain": [
       "[0.4994541359590703,\n",
       " 0.4994541359590703,\n",
       " 0.4994541359590703,\n",
       " 0.4994541359590703,\n",
       " 0.4994541359590703,\n",
       " 0.4994541359590703,\n",
       " 0.4994541359590703,\n",
       " 0.4994541359590703,\n",
       " 0.4994541359590703,\n",
       " 0.4994541359590703]"
      ]
     },
     "execution_count": 21,
     "metadata": {},
     "output_type": "execute_result"
    }
   ],
   "source": [
    "cross_list_precision_knn"
   ]
  },
  {
   "cell_type": "markdown",
   "metadata": {},
   "source": [
    "#### KNN F1 Score"
   ]
  },
  {
   "cell_type": "code",
   "execution_count": 20,
   "metadata": {},
   "outputs": [
    {
     "data": {
      "text/plain": [
       "0.5028731856827341"
      ]
     },
     "execution_count": 20,
     "metadata": {},
     "output_type": "execute_result"
    }
   ],
   "source": [
    "total_f1_knn = 0\n",
    "avg_f1_knn = 0\n",
    "\n",
    "for i in range(0,10):\n",
    "    total_f1_knn += cross_list_f1_knn[i]\n",
    "    \n",
    "avg_f1_knn = total_f1_knn / 10\n",
    "avg_f1_knn"
   ]
  },
  {
   "cell_type": "markdown",
   "metadata": {},
   "source": [
    "#### KNN Accuracy Score"
   ]
  },
  {
   "cell_type": "code",
   "execution_count": 26,
   "metadata": {},
   "outputs": [
    {
     "data": {
      "text/plain": [
       "0.5199999999999999"
      ]
     },
     "execution_count": 26,
     "metadata": {},
     "output_type": "execute_result"
    }
   ],
   "source": [
    "total_accuracy_knn = 0\n",
    "avg_accuracy_knn = 0\n",
    "\n",
    "for i in range(0,10):\n",
    "    total_accuracy_knn += cross_list_accuracy_knn[i]\n",
    "    \n",
    "avg_accuracy_knn = total_accuracy_knn / 10\n",
    "avg_accuracy_knn"
   ]
  },
  {
   "cell_type": "markdown",
   "metadata": {},
   "source": [
    "#### KNN Recall Score"
   ]
  },
  {
   "cell_type": "code",
   "execution_count": 25,
   "metadata": {},
   "outputs": [
    {
     "data": {
      "text/plain": [
       "0.5199999999999999"
      ]
     },
     "execution_count": 25,
     "metadata": {},
     "output_type": "execute_result"
    }
   ],
   "source": [
    "total_recall_knn = 0\n",
    "avg_recall_knn = 0\n",
    "\n",
    "for i in range(0,10):\n",
    "    total_recall_knn += cross_list_recall_knn[i]\n",
    "    \n",
    "avg_recall_knn = total_recall_knn / 10\n",
    "avg_recall_knn"
   ]
  },
  {
   "cell_type": "markdown",
   "metadata": {},
   "source": [
    "#### KNN Precision Score"
   ]
  },
  {
   "cell_type": "code",
   "execution_count": 24,
   "metadata": {},
   "outputs": [
    {
     "data": {
      "text/plain": [
       "0.5290536981400952"
      ]
     },
     "execution_count": 24,
     "metadata": {},
     "output_type": "execute_result"
    }
   ],
   "source": [
    "total_precision_knn = 0\n",
    "avg_precision_knn = 0\n",
    "\n",
    "for i in range(0,10):\n",
    "    total_precision_knn += cross_list_precision_knn[i]\n",
    "    \n",
    "avg_precision_knn = total_precision_knn / 10\n",
    "avg_precision_knn"
   ]
  },
  {
   "cell_type": "code",
   "execution_count": 27,
   "metadata": {},
   "outputs": [
    {
     "data": {
      "text/plain": [
       "Text(0.5, 1.0, 'Results')"
      ]
     },
     "execution_count": 27,
     "metadata": {},
     "output_type": "execute_result"
    },
    {
     "data": {
      "image/png": "[encoded data removed]",
      "text/plain": [
       "<Figure size 432x288 with 1 Axes>"
      ]
     },
     "metadata": {
      "needs_background": "light"
     },
     "output_type": "display_data"
    }
   ],
   "source": [
    "x_index = 1\n",
    "en = 0.20\n",
    "\n",
    "fig = plt.figure()\n",
    "ax = plt.axes()\n",
    "\n",
    "plt.bar(x_index-en, avg_accuracy_knn, width=en, label = \"accuracy\")\n",
    "plt.bar(x_index, avg_f1_knn, width=en, label = \"F1\")\n",
    "plt.bar(x_index+en, avg_precision_knn, width=en, label = \"Precision\")\n",
    "plt.bar(x_index+2*en, avg_recall_knn, width=en, label = \"Recall\")\n",
    "\n",
    "plt.legend()\n",
    "\n",
    "plt.xlabel(\"KFold Values\")\n",
    "plt.ylabel(\"% values\")\n",
    "plt.title(\"Results\")"
   ]
  },
  {
   "cell_type": "markdown",
   "metadata": {},
   "source": [
    "### Comparing Metrices"
   ]
  },
  {
   "cell_type": "markdown",
   "metadata": {},
   "source": [
    "#### Accuracy score"
   ]
  },
  {
   "cell_type": "code",
   "execution_count": 28,
   "metadata": {},
   "outputs": [
    {
     "data": {
      "text/plain": [
       "Text(0.5, 1.0, 'Results')"
      ]
     },
     "execution_count": 28,
     "metadata": {},
     "output_type": "execute_result"
    },
    {
     "data": {
      "image/png": "[encoded data removed]",
      "text/plain": [
       "<Figure size 432x288 with 1 Axes>"
      ]
     },
     "metadata": {
      "needs_background": "light"
     },
     "output_type": "display_data"
    }
   ],
   "source": [
    "x_index = 1\n",
    "en = 0.20\n",
    "\n",
    "fig = plt.figure()\n",
    "ax = plt.axes()\n",
    "\n",
    "plt.bar(x_index-en, avg_accuracy_naive, width=en, label = \"Naive Bayes Accuracy\")\n",
    "plt.bar(x_index, avg_accuracy_rf, width=en, label = \"Random Forests Accuracy\")\n",
    "plt.bar(x_index+en, avg_accuracy_knn, width=en, label = \"KNN Accuracy\")\n",
    "\n",
    "plt.legend()\n",
    "\n",
    "plt.xlabel(\"KFold Values\")\n",
    "plt.ylabel(\"% values\")\n",
    "plt.title(\"Results\")"
   ]
  },
  {
   "cell_type": "markdown",
   "metadata": {},
   "source": [
    "#### F1 Score"
   ]
  },
  {
   "cell_type": "code",
   "execution_count": 29,
   "metadata": {},
   "outputs": [
    {
     "data": {
      "text/plain": [
       "Text(0.5, 1.0, 'Results')"
      ]
     },
     "execution_count": 29,
     "metadata": {},
     "output_type": "execute_result"
    },
    {
     "data": {
      "image/png": "[encoded data removed]",
      "text/plain": [
       "<Figure size 432x288 with 1 Axes>"
      ]
     },
     "metadata": {
      "needs_background": "light"
     },
     "output_type": "display_data"
    }
   ],
   "source": [
    "x_index = 1\n",
    "en = 0.20\n",
    "\n",
    "fig = plt.figure()\n",
    "ax = plt.axes()\n",
    "\n",
    "plt.bar(x_index-en, avg_f1_naive, width=en, label = \"Naive Bayes F1\")\n",
    "plt.bar(x_index, avg_f1_rf, width=en, label = \"Random Forests F1\")\n",
    "plt.bar(x_index+en, avg_f1_knn, width=en, label = \"KNN F1\")\n",
    "\n",
    "plt.legend()\n",
    "\n",
    "plt.xlabel(\"KFold Values\")\n",
    "plt.ylabel(\"% values\")\n",
    "plt.title(\"Results\")"
   ]
  },
  {
   "cell_type": "markdown",
   "metadata": {},
   "source": [
    "#### Precision Score"
   ]
  },
  {
   "cell_type": "code",
   "execution_count": 30,
   "metadata": {},
   "outputs": [
    {
     "data": {
      "text/plain": [
       "Text(0.5, 1.0, 'Results')"
      ]
     },
     "execution_count": 30,
     "metadata": {},
     "output_type": "execute_result"
    },
    {
     "data": {
      "image/png": "[encoded data removed]",
      "text/plain": [
       "<Figure size 432x288 with 1 Axes>"
      ]
     },
     "metadata": {
      "needs_background": "light"
     },
     "output_type": "display_data"
    }
   ],
   "source": [
    "x_index = 1\n",
    "en = 0.20\n",
    "\n",
    "fig = plt.figure()\n",
    "ax = plt.axes()\n",
    "\n",
    "plt.bar(x_index-en, avg_precision_naive, width=en, label = \"Naive Bayes Precision\")\n",
    "plt.bar(x_index, avg_precision_rf, width=en, label = \"Random Forests Precision\")\n",
    "plt.bar(x_index+en, avg_precision_knn, width=en, label = \"KNN Precision\")\n",
    "\n",
    "plt.legend()\n",
    "\n",
    "plt.xlabel(\"KFold Values\")\n",
    "plt.ylabel(\"% values\")\n",
    "plt.title(\"Results\")"
   ]
  },
  {
   "cell_type": "markdown",
   "metadata": {},
   "source": [
    "#### Recall Score"
   ]
  },
  {
   "cell_type": "code",
   "execution_count": 31,
   "metadata": {},
   "outputs": [
    {
     "data": {
      "text/plain": [
       "Text(0.5, 1.0, 'Results')"
      ]
     },
     "execution_count": 31,
     "metadata": {},
     "output_type": "execute_result"
    },
    {
     "data": {
      "image/png": "[encoded data removed]",
      "text/plain": [
       "<Figure size 432x288 with 1 Axes>"
      ]
     },
     "metadata": {
      "needs_background": "light"
     },
     "output_type": "display_data"
    }
   ],
   "source": [
    "x_index = 1\n",
    "en = 0.20\n",
    "\n",
    "fig = plt.figure()\n",
    "ax = plt.axes()\n",
    "\n",
    "plt.bar(x_index-en, avg_recall_naive, width=en, label = \"Naive Bayes Recall\")\n",
    "plt.bar(x_index, avg_recall_rf, width=en, label = \"Random Forests Recall\")\n",
    "plt.bar(x_index+en, avg_recall_knn, width=en, label = \"KNN Recall\")\n",
    "\n",
    "plt.legend()\n",
    "\n",
    "plt.xlabel(\"KFold Values\")\n",
    "plt.ylabel(\"% values\")\n",
    "plt.title(\"Results\")"
   ]
  }
 ],
 "metadata": {
  "kernelspec": {
   "display_name": "Python 3.9.7 ('base')",
   "language": "python",
   "name": "python3"
  },
  "language_info": {
   "codemirror_mode": {
    "name": "ipython",
    "version": 3
   },
   "file_extension": ".py",
   "mimetype": "text/x-python",
   "name": "python",
   "nbconvert_exporter": "python",
   "pygments_lexer": "ipython3",
   "version": "3.9.7"
  },
  "orig_nbformat": 4,
  "vscode": {
   "interpreter": {
    "hash": "fa1ba05c6c28d7b2679067ee640aaa932a4bee9004ef693723bf8e1283044cca"
   }
  }
 },
 "nbformat": 4,
 "nbformat_minor": 2
}
