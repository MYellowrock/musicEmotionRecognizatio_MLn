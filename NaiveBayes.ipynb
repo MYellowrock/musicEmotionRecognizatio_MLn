{
 "cells": [
  {
   "cell_type": "code",
   "execution_count": 1,
   "metadata": {},
   "outputs": [],
   "source": [
    "import numpy as np\n",
    "import pandas as pd\n",
    "\n",
    "from sklearn.model_selection import KFold, cross_val_score\n",
    "from sklearn.naive_bayes import GaussianNB\n",
    "from sklearn.metrics import make_scorer, accuracy_score, recall_score, precision_score, f1_score, confusion_matrix\n",
    "\n",
    "import matplotlib.pyplot as plt"
   ]
  },
  {
   "cell_type": "code",
   "execution_count": 2,
   "metadata": {},
   "outputs": [],
   "source": [
    "df = pd.DataFrame(pd.read_csv(\"acoustic_Features.csv\"))\n",
    "X = df.drop([\"Class\"], axis = 1)\n",
    "y = df[\"Class\"]"
   ]
  },
  {
   "cell_type": "code",
   "execution_count": 3,
   "metadata": {},
   "outputs": [
    {
     "data": {
      "text/plain": [
       "Index(['Class', '_RMSenergy_Mean', '_Lowenergy_Mean', '_Fluctuation_Mean',\n",
       "       '_Tempo_Mean', '_MFCC_Mean_1', '_MFCC_Mean_2', '_MFCC_Mean_3',\n",
       "       '_MFCC_Mean_4', '_MFCC_Mean_5', '_MFCC_Mean_6', '_MFCC_Mean_7',\n",
       "       '_MFCC_Mean_8', '_MFCC_Mean_9', '_MFCC_Mean_10', '_MFCC_Mean_11',\n",
       "       '_MFCC_Mean_12', '_MFCC_Mean_13', '_Roughness_Mean', '_Roughness_Slope',\n",
       "       '_Zero-crossingrate_Mean', '_AttackTime_Mean', '_AttackTime_Slope',\n",
       "       '_Rolloff_Mean', '_Eventdensity_Mean', '_Pulseclarity_Mean',\n",
       "       '_Brightness_Mean', '_Spectralcentroid_Mean', '_Spectralspread_Mean',\n",
       "       '_Spectralskewness_Mean', '_Spectralkurtosis_Mean',\n",
       "       '_Spectralflatness_Mean', '_EntropyofSpectrum_Mean',\n",
       "       '_Chromagram_Mean_1', '_Chromagram_Mean_2', '_Chromagram_Mean_3',\n",
       "       '_Chromagram_Mean_4', '_Chromagram_Mean_5', '_Chromagram_Mean_6',\n",
       "       '_Chromagram_Mean_7', '_Chromagram_Mean_8', '_Chromagram_Mean_9',\n",
       "       '_Chromagram_Mean_10', '_Chromagram_Mean_11', '_Chromagram_Mean_12',\n",
       "       '_HarmonicChangeDetectionFunction_Mean',\n",
       "       '_HarmonicChangeDetectionFunction_Std',\n",
       "       '_HarmonicChangeDetectionFunction_Slope',\n",
       "       '_HarmonicChangeDetectionFunction_PeriodFreq',\n",
       "       '_HarmonicChangeDetectionFunction_PeriodAmp',\n",
       "       '_HarmonicChangeDetectionFunction_PeriodEntropy'],\n",
       "      dtype='object')"
      ]
     },
     "execution_count": 3,
     "metadata": {},
     "output_type": "execute_result"
    }
   ],
   "source": [
    "df.columns"
   ]
  },
  {
   "cell_type": "code",
   "execution_count": 4,
   "metadata": {},
   "outputs": [],
   "source": [
    "accuracy_list = []\n",
    "f1_list = []\n",
    "recall_list = []\n",
    "precision_list = []\n",
    "\n",
    "\n",
    "kfold = KFold(n_splits=10, shuffle=True)\n",
    "df_model = GaussianNB()\n",
    "\n",
    "for i in range(10):\n",
    "    accuracy_list.append(cross_val_score(df_model, X, y, cv = kfold, scoring=(make_scorer(accuracy_score))).mean())\n",
    "    f1_list.append(cross_val_score(df_model, X, y, cv = kfold, scoring=(make_scorer(f1_score, average = \"weighted\"))).mean())\n",
    "    recall_list.append(cross_val_score(df_model, X, y, cv = kfold, scoring=(make_scorer(recall_score, average = \"weighted\"))).mean())\n",
    "    precision_list.append(cross_val_score(df_model, X, y, cv = kfold, scoring=(make_scorer(precision_score, average = \"weighted\"))).mean())\n",
    "    \n"
   ]
  },
  {
   "cell_type": "code",
   "execution_count": 5,
   "metadata": {},
   "outputs": [
    {
     "data": {
      "text/plain": [
       "[0.6775,\n",
       " 0.6875,\n",
       " 0.6875,\n",
       " 0.6950000000000001,\n",
       " 0.69,\n",
       " 0.69,\n",
       " 0.6799999999999999,\n",
       " 0.6825,\n",
       " 0.6925,\n",
       " 0.675]"
      ]
     },
     "execution_count": 5,
     "metadata": {},
     "output_type": "execute_result"
    }
   ],
   "source": [
    "accuracy_list"
   ]
  },
  {
   "cell_type": "code",
   "execution_count": 6,
   "metadata": {},
   "outputs": [
    {
     "data": {
      "text/plain": [
       "0.68575"
      ]
     },
     "execution_count": 6,
     "metadata": {},
     "output_type": "execute_result"
    }
   ],
   "source": [
    "total_accuracy = 0\n",
    "avg_accuracy = 0\n",
    "\n",
    "for i in accuracy_list:\n",
    "    total_accuracy += i\n",
    "\n",
    "avg_accuracy = total_accuracy / 10\n",
    "avg_accuracy"
   ]
  },
  {
   "cell_type": "code",
   "execution_count": 7,
   "metadata": {},
   "outputs": [
    {
     "data": {
      "text/plain": [
       "0.6745757233006863"
      ]
     },
     "execution_count": 7,
     "metadata": {},
     "output_type": "execute_result"
    }
   ],
   "source": [
    "total_f1 = 0\n",
    "avg_f1 = 0\n",
    "\n",
    "for i in f1_list:\n",
    "    total_f1 += i\n",
    "\n",
    "avg_f1 = total_f1 / 10\n",
    "avg_f1"
   ]
  },
  {
   "cell_type": "code",
   "execution_count": 8,
   "metadata": {},
   "outputs": [
    {
     "data": {
      "text/plain": [
       "0.7068917214235713"
      ]
     },
     "execution_count": 8,
     "metadata": {},
     "output_type": "execute_result"
    }
   ],
   "source": [
    "total_precision = 0\n",
    "avg_precision = 0\n",
    "\n",
    "for i in precision_list:\n",
    "    total_precision += i\n",
    "\n",
    "avg_precision = total_precision / 10\n",
    "avg_precision"
   ]
  },
  {
   "cell_type": "code",
   "execution_count": 9,
   "metadata": {},
   "outputs": [
    {
     "data": {
      "text/plain": [
       "0.685"
      ]
     },
     "execution_count": 9,
     "metadata": {},
     "output_type": "execute_result"
    }
   ],
   "source": [
    "total_recall = 0\n",
    "avg_recall = 0\n",
    "\n",
    "for i in recall_list:\n",
    "    total_recall += i\n",
    "\n",
    "avg_recall = total_recall / 10\n",
    "avg_recall"
   ]
  },
  {
   "cell_type": "code",
   "execution_count": 10,
   "metadata": {},
   "outputs": [
    {
     "data": {
      "text/plain": [
       "Text(0.5, 1.0, 'Results')"
      ]
     },
     "execution_count": 10,
     "metadata": {},
     "output_type": "execute_result"
    },
    {
     "data": {
      "image/png": "[encoded data removed]",
      "text/plain": [
       "<Figure size 432x288 with 1 Axes>"
      ]
     },
     "metadata": {
      "needs_background": "light"
     },
     "output_type": "display_data"
    }
   ],
   "source": [
    "x_index = 1\n",
    "en = 0.20\n",
    "\n",
    "fig = plt.figure()\n",
    "ax = plt.axes()\n",
    "\n",
    "plt.bar(x_index-en, avg_accuracy, width=en, label = \"Accuracy\")\n",
    "plt.bar(x_index, avg_f1, width=en, label = \"F1\")\n",
    "plt.bar(x_index+en, avg_precision, width=en, label = \"Precision\")\n",
    "plt.bar(x_index+2*en, avg_recall, width=en, label = \"Recall\")\n",
    "\n",
    "plt.legend()\n",
    "\n",
    "plt.xlabel(\"KFold Values\")\n",
    "plt.ylabel(\"% values\")\n",
    "plt.title(\"Results\")"
   ]
  }
 ],
 "metadata": {
  "kernelspec": {
   "display_name": "Python 3.9.7 ('base')",
   "language": "python",
   "name": "python3"
  },
  "language_info": {
   "codemirror_mode": {
    "name": "ipython",
    "version": 3
   },
   "file_extension": ".py",
   "mimetype": "text/x-python",
   "name": "python",
   "nbconvert_exporter": "python",
   "pygments_lexer": "ipython3",
   "version": "3.9.7 (default, Sep 16 2021, 16:59:28) [MSC v.1916 64 bit (AMD64)]"
  },
  "orig_nbformat": 4,
  "vscode": {
   "interpreter": {
    "hash": "fa1ba05c6c28d7b2679067ee640aaa932a4bee9004ef693723bf8e1283044cca"
   }
  }
 },
 "nbformat": 4,
 "nbformat_minor": 2
}
