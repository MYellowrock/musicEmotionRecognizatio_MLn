{
 "cells": [
  {
   "cell_type": "code",
   "execution_count": 2,
   "metadata": {},
   "outputs": [],
   "source": [
    "import numpy as np\n",
    "import pandas as pd\n",
    "\n",
    "from sklearn.model_selection import KFold, cross_val_score\n",
    "from sklearn.ensemble import RandomForestClassifier\n",
    "from sklearn.metrics import make_scorer, accuracy_score, recall_score, precision_score, f1_score\n",
    "\n",
    "import matplotlib.pyplot as plt"
   ]
  },
  {
   "cell_type": "code",
   "execution_count": 3,
   "metadata": {},
   "outputs": [],
   "source": [
    "df = pd.DataFrame(pd.read_csv(\"acoustic_Features.csv\"))\n",
    "X = df.drop([\"Class\"], axis = 1)\n",
    "y = df[\"Class\"]"
   ]
  },
  {
   "cell_type": "code",
   "execution_count": 4,
   "metadata": {},
   "outputs": [
    {
     "data": {
      "text/plain": [
       "Index(['Class', '_RMSenergy_Mean', '_Lowenergy_Mean', '_Fluctuation_Mean',\n",
       "       '_Tempo_Mean', '_MFCC_Mean_1', '_MFCC_Mean_2', '_MFCC_Mean_3',\n",
       "       '_MFCC_Mean_4', '_MFCC_Mean_5', '_MFCC_Mean_6', '_MFCC_Mean_7',\n",
       "       '_MFCC_Mean_8', '_MFCC_Mean_9', '_MFCC_Mean_10', '_MFCC_Mean_11',\n",
       "       '_MFCC_Mean_12', '_MFCC_Mean_13', '_Roughness_Mean', '_Roughness_Slope',\n",
       "       '_Zero-crossingrate_Mean', '_AttackTime_Mean', '_AttackTime_Slope',\n",
       "       '_Rolloff_Mean', '_Eventdensity_Mean', '_Pulseclarity_Mean',\n",
       "       '_Brightness_Mean', '_Spectralcentroid_Mean', '_Spectralspread_Mean',\n",
       "       '_Spectralskewness_Mean', '_Spectralkurtosis_Mean',\n",
       "       '_Spectralflatness_Mean', '_EntropyofSpectrum_Mean',\n",
       "       '_Chromagram_Mean_1', '_Chromagram_Mean_2', '_Chromagram_Mean_3',\n",
       "       '_Chromagram_Mean_4', '_Chromagram_Mean_5', '_Chromagram_Mean_6',\n",
       "       '_Chromagram_Mean_7', '_Chromagram_Mean_8', '_Chromagram_Mean_9',\n",
       "       '_Chromagram_Mean_10', '_Chromagram_Mean_11', '_Chromagram_Mean_12',\n",
       "       '_HarmonicChangeDetectionFunction_Mean',\n",
       "       '_HarmonicChangeDetectionFunction_Std',\n",
       "       '_HarmonicChangeDetectionFunction_Slope',\n",
       "       '_HarmonicChangeDetectionFunction_PeriodFreq',\n",
       "       '_HarmonicChangeDetectionFunction_PeriodAmp',\n",
       "       '_HarmonicChangeDetectionFunction_PeriodEntropy'],\n",
       "      dtype='object')"
      ]
     },
     "execution_count": 4,
     "metadata": {},
     "output_type": "execute_result"
    }
   ],
   "source": [
    "df.columns"
   ]
  },
  {
   "cell_type": "code",
   "execution_count": 5,
   "metadata": {},
   "outputs": [],
   "source": [
    "accuracy_list = []\n",
    "tot_accuracy_list = []\n",
    "\n",
    "tot_accuracy = 0\n",
    "avg_accuracy = 0\n",
    "\n",
    "\n",
    "kfold = KFold(n_splits=10, shuffle=True)\n",
    "for m in [50,100,150,200,250,300,350,400,450,500,550,600,650,700,750,800,850,900,950,1000]:\n",
    "    for k in range(1,8):\n",
    "        df_model = RandomForestClassifier(max_depth=k, n_estimators=m)\n",
    "        for i in range(10):\n",
    "            accuracy_list.append(cross_val_score(df_model, X, y, cv = kfold, scoring=(make_scorer(accuracy_score))).mean())\n",
    "            \n",
    "        \n",
    "        for i in accuracy_list:\n",
    "            tot_accuracy += i\n",
    "        \n",
    "        \n",
    "        avg_accuracy = tot_accuracy / 10\n",
    "        tot_accuracy_list.append(avg_accuracy)\n",
    "        accuracy_list.clear()\n",
    "        tot_accuracy = 0\n",
    "        avg_accuracy = 0\n",
    "\n",
    "       \n",
    "            \n",
    "    \n",
    "           \n",
    "            \n",
    "\n",
    "\n"
   ]
  },
  {
   "attachments": {},
   "cell_type": "markdown",
   "metadata": {},
   "source": [
    "163m"
   ]
  },
  {
   "cell_type": "code",
   "execution_count": 6,
   "metadata": {},
   "outputs": [
    {
     "data": {
      "text/plain": [
       "[0.6532500000000001,\n",
       " 0.7304999999999999,\n",
       " 0.7617499999999999,\n",
       " 0.7805,\n",
       " 0.794,\n",
       " 0.79775,\n",
       " 0.8012499999999999,\n",
       " 0.65375,\n",
       " 0.7295,\n",
       " 0.7689999999999999,\n",
       " 0.785,\n",
       " 0.7987500000000001,\n",
       " 0.8012499999999999,\n",
       " 0.8030000000000002,\n",
       " 0.6695000000000002,\n",
       " 0.73875,\n",
       " 0.7685000000000001,\n",
       " 0.7892500000000001,\n",
       " 0.7975,\n",
       " 0.8019999999999999,\n",
       " 0.8015000000000001,\n",
       " 0.6625,\n",
       " 0.7380000000000001,\n",
       " 0.77175,\n",
       " 0.7912499999999999,\n",
       " 0.8007499999999999,\n",
       " 0.8067500000000001,\n",
       " 0.8039999999999999,\n",
       " 0.66675,\n",
       " 0.7362500000000001,\n",
       " 0.7742499999999999,\n",
       " 0.792,\n",
       " 0.7992500000000001,\n",
       " 0.80575,\n",
       " 0.8012499999999999,\n",
       " 0.6695,\n",
       " 0.73475,\n",
       " 0.7695000000000001,\n",
       " 0.7949999999999999,\n",
       " 0.8002499999999999,\n",
       " 0.8020000000000002,\n",
       " 0.8095000000000001,\n",
       " 0.671,\n",
       " 0.7379999999999999,\n",
       " 0.77125,\n",
       " 0.79575,\n",
       " 0.80375,\n",
       " 0.8032499999999999,\n",
       " 0.8075000000000001,\n",
       " 0.667,\n",
       " 0.7414999999999999,\n",
       " 0.7725000000000001,\n",
       " 0.79125,\n",
       " 0.8010000000000002,\n",
       " 0.8067500000000001,\n",
       " 0.807,\n",
       " 0.66825,\n",
       " 0.7342500000000001,\n",
       " 0.77575,\n",
       " 0.7882499999999999,\n",
       " 0.7995,\n",
       " 0.806,\n",
       " 0.8014999999999999,\n",
       " 0.6665,\n",
       " 0.73925,\n",
       " 0.77675,\n",
       " 0.7905,\n",
       " 0.8015000000000001,\n",
       " 0.80525,\n",
       " 0.8105,\n",
       " 0.6685,\n",
       " 0.73625,\n",
       " 0.7782500000000001,\n",
       " 0.7915000000000001,\n",
       " 0.804,\n",
       " 0.808,\n",
       " 0.80475,\n",
       " 0.67275,\n",
       " 0.7375,\n",
       " 0.7805000000000001,\n",
       " 0.7925,\n",
       " 0.7985,\n",
       " 0.8075000000000001,\n",
       " 0.8067499999999999,\n",
       " 0.6737499999999998,\n",
       " 0.74275,\n",
       " 0.7745000000000001,\n",
       " 0.794,\n",
       " 0.8022500000000001,\n",
       " 0.80375,\n",
       " 0.80175,\n",
       " 0.6777500000000001,\n",
       " 0.739,\n",
       " 0.77325,\n",
       " 0.7947499999999998,\n",
       " 0.8014999999999999,\n",
       " 0.806,\n",
       " 0.8087500000000001,\n",
       " 0.6677499999999998,\n",
       " 0.73475,\n",
       " 0.7765000000000001,\n",
       " 0.7929999999999999,\n",
       " 0.8,\n",
       " 0.80575,\n",
       " 0.8067500000000001,\n",
       " 0.66375,\n",
       " 0.7405000000000002,\n",
       " 0.7702500000000001,\n",
       " 0.792,\n",
       " 0.80325,\n",
       " 0.80425,\n",
       " 0.8055000000000001,\n",
       " 0.6719999999999999,\n",
       " 0.73875,\n",
       " 0.775,\n",
       " 0.7932500000000001,\n",
       " 0.8019999999999999,\n",
       " 0.8034999999999999,\n",
       " 0.80975,\n",
       " 0.67375,\n",
       " 0.74075,\n",
       " 0.7755000000000001,\n",
       " 0.7972499999999999,\n",
       " 0.7972499999999999,\n",
       " 0.8055,\n",
       " 0.807,\n",
       " 0.6712499999999999,\n",
       " 0.74,\n",
       " 0.779,\n",
       " 0.7962499999999999,\n",
       " 0.8035,\n",
       " 0.8075000000000001,\n",
       " 0.807,\n",
       " 0.66025,\n",
       " 0.7387499999999999,\n",
       " 0.7779999999999999,\n",
       " 0.798,\n",
       " 0.7975,\n",
       " 0.80475,\n",
       " 0.80725]"
      ]
     },
     "execution_count": 6,
     "metadata": {},
     "output_type": "execute_result"
    }
   ],
   "source": [
    "tot_accuracy_list"
   ]
  },
  {
   "cell_type": "markdown",
   "metadata": {},
   "source": [
    "lst = [0.6555, 0.72225, 0.76325, 0.7785, 0.7895, 0.79925, 0.79375:;\n",
    "       0.66125, 0.734, 0.77125, 0.786, 0.80025, 0.8055, 0.80375;\n",
    "       0.66, 0.7335, 0.76975, 0.7955, 0.798, 0.8005, 0.805;\n",
    "       0.66725, 0.7375, 0.77525, 0.79375, 0.79775, 0.803, 0.809;\n",
    "       0.6735, 0.73625, 0.77375, 0.79275, 0.80125, 0.8045, 0.809;\n",
    "       0.66325, 0.73975, 0.77225, 0.8, 0.79925, 0.80325, 0.8075;\n",
    "       0.66275, 0.732, 0.7735, 0.7875, 0.80375, 0.805, 0.80575;\n",
    "       0.67225, 0.7385, 0.77325, 0.792, 0.80575, 0.804, 0.80275;\n",
    "       0.673, 0.73925, 0.77725, 0.79475, 0.8005, 0.804, 0.8035;\n",
    "       0.6695, 0.73825, 0.77475, 0.79225, 0.798, 0.8055, 0.807]\n",
    "\n",
    "\n"
   ]
  },
  {
   "cell_type": "code",
   "execution_count": 9,
   "metadata": {},
   "outputs": [],
   "source": [
    "accuracy_list2 = []\n",
    "tot_accuracy_list2 = []\n",
    "\n",
    "tot_accuracy2 = 0\n",
    "avg_accuracy2 = 0\n",
    "\n",
    "f1_list2 = []\n",
    "tot_f1_list2 = []\n",
    "\n",
    "tot_f12 = 0\n",
    "avg_f12 = 0\n",
    "\n",
    "precision_list2 = []\n",
    "tot_precision_list2 = []\n",
    "\n",
    "tot_precision2 = 0\n",
    "avg_precision2 = 0\n",
    "\n",
    "recall_list2 = []\n",
    "tot_recall_list2 = []\n",
    "\n",
    "tot_recall2 = 0\n",
    "avg_recall2 = 0\n",
    "\n",
    "\n",
    "kfold2 = KFold(n_splits=10, shuffle=True)\n",
    "\n",
    "df_model2 = RandomForestClassifier(max_depth=7, n_estimators=500)\n",
    "for i in range(10):\n",
    "            accuracy_list2.append(cross_val_score(df_model2, X, y, cv = kfold2, scoring=(make_scorer(accuracy_score))).mean())\n",
    "            f1_list2.append(cross_val_score(df_model2, X, y, cv = kfold2, scoring=(make_scorer(f1_score, average = \"weighted\"))).mean())\n",
    "            precision_list2.append(cross_val_score(df_model2, X, y, cv = kfold2, scoring=(make_scorer(precision_score, average = \"weighted\"))).mean())\n",
    "            recall_list2.append(cross_val_score(df_model2, X, y, cv = kfold2, scoring=(make_scorer(recall_score, average = \"weighted\"))).mean())\n",
    "            \n",
    "        \n",
    "for i in accuracy_list2:\n",
    "    tot_accuracy2 += i\n",
    "\n",
    "avg_accuracy2 = tot_accuracy2 / 10\n",
    "\n",
    "for i in f1_list2:\n",
    "    tot_f12 += i\n",
    "\n",
    "avg_f12 = tot_f12 / 10\n",
    "\n",
    "for i in precision_list2:\n",
    "    tot_precision2 += i\n",
    "\n",
    "avg_precision2 = tot_precision2 / 10\n",
    "\n",
    "for i in recall_list2:\n",
    "    tot_recall2 += i\n",
    "\n",
    "avg_recall2 = tot_recall2 / 10\n",
    "        \n",
    "        \n",
    "    "
   ]
  },
  {
   "cell_type": "code",
   "execution_count": 10,
   "metadata": {},
   "outputs": [
    {
     "data": {
      "text/plain": [
       "0.8065"
      ]
     },
     "execution_count": 10,
     "metadata": {},
     "output_type": "execute_result"
    }
   ],
   "source": [
    "avg_accuracy2"
   ]
  },
  {
   "cell_type": "code",
   "execution_count": 11,
   "metadata": {},
   "outputs": [
    {
     "data": {
      "text/plain": [
       "0.8041370642421803"
      ]
     },
     "execution_count": 11,
     "metadata": {},
     "output_type": "execute_result"
    }
   ],
   "source": [
    "avg_f12"
   ]
  },
  {
   "cell_type": "code",
   "execution_count": 12,
   "metadata": {},
   "outputs": [
    {
     "data": {
      "text/plain": [
       "0.8249881684330891"
      ]
     },
     "execution_count": 12,
     "metadata": {},
     "output_type": "execute_result"
    }
   ],
   "source": [
    "avg_precision2"
   ]
  },
  {
   "cell_type": "code",
   "execution_count": 13,
   "metadata": {},
   "outputs": [
    {
     "data": {
      "text/plain": [
       "0.8060000000000003"
      ]
     },
     "execution_count": 13,
     "metadata": {},
     "output_type": "execute_result"
    }
   ],
   "source": [
    "avg_recall2"
   ]
  },
  {
   "cell_type": "code",
   "execution_count": 5,
   "metadata": {},
   "outputs": [],
   "source": [
    "X_new = df[[\"_Zero-crossingrate_Mean\", \"_HarmonicChangeDetectionFunction_Std\", \"_HarmonicChangeDetectionFunction_PeriodAmp\", \"_Fluctuation_Mean\"]]"
   ]
  },
  {
   "cell_type": "code",
   "execution_count": null,
   "metadata": {},
   "outputs": [],
   "source": [
    "accuracy_list = []\n",
    "tot_accuracy_list = []\n",
    "\n",
    "tot_accuracy = 0\n",
    "avg_accuracy = 0\n",
    "\n",
    "\n",
    "kfold = KFold(n_splits=10, shuffle=True)\n",
    "for m in [50,100,150,200,250,300,350,400,450,500,550,600,650,700,750,800,850,900,950,1000]:\n",
    "    for k in range(1,8):\n",
    "        df_model = RandomForestClassifier(max_depth=k, n_estimators=m)\n",
    "        for i in range(10):\n",
    "            accuracy_list.append(cross_val_score(df_model, X_new, y, cv = kfold, scoring=(make_scorer(accuracy_score))).mean())\n",
    "            \n",
    "        \n",
    "        for i in accuracy_list:\n",
    "            tot_accuracy += i\n",
    "        \n",
    "        \n",
    "        avg_accuracy = tot_accuracy / 10\n",
    "        tot_accuracy_list.append(avg_accuracy)\n",
    "        accuracy_list.clear()\n",
    "        tot_accuracy = 0\n",
    "        avg_accuracy = 0"
   ]
  }
 ],
 "metadata": {
  "kernelspec": {
   "display_name": "base",
   "language": "python",
   "name": "python3"
  },
  "language_info": {
   "codemirror_mode": {
    "name": "ipython",
    "version": 3
   },
   "file_extension": ".py",
   "mimetype": "text/x-python",
   "name": "python",
   "nbconvert_exporter": "python",
   "pygments_lexer": "ipython3",
   "version": "3.9.7 (default, Sep 16 2021, 16:59:28) [MSC v.1916 64 bit (AMD64)]"
  },
  "orig_nbformat": 4,
  "vscode": {
   "interpreter": {
    "hash": "fa1ba05c6c28d7b2679067ee640aaa932a4bee9004ef693723bf8e1283044cca"
   }
  }
 },
 "nbformat": 4,
 "nbformat_minor": 2
}
