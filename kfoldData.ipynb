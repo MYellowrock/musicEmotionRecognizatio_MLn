{
 "cells": [
  {
   "cell_type": "code",
   "execution_count": 1,
   "metadata": {},
   "outputs": [],
   "source": [
    "import pandas as pd\n",
    "from sklearn.model_selection import train_test_split, KFold\n",
    "from sklearn.ensemble import RandomForestClassifier\n",
    "from sklearn.metrics import classification_report"
   ]
  },
  {
   "cell_type": "code",
   "execution_count": 2,
   "metadata": {},
   "outputs": [],
   "source": [
    "df = pd.DataFrame(pd.read_csv(\"acoustic_Features.csv\"))\n",
    "df = df.copy()"
   ]
  },
  {
   "cell_type": "code",
   "execution_count": 4,
   "metadata": {},
   "outputs": [
    {
     "name": "stdout",
     "output_type": "stream",
     "text": [
      "Classification report: \n",
      "\n",
      "              precision    recall  f1-score   support\n",
      "\n",
      "       angry       0.90      0.79      0.84        33\n",
      "       happy       0.90      1.00      0.95        28\n",
      "       relax       0.79      0.84      0.81        31\n",
      "         sad       0.70      0.68      0.69        28\n",
      "\n",
      "    accuracy                           0.82       120\n",
      "   macro avg       0.82      0.83      0.82       120\n",
      "weighted avg       0.83      0.82      0.82       120\n",
      "\n"
     ]
    }
   ],
   "source": [
    "X = df.drop([\"Class\"], axis = 1)\n",
    "y = df[\"Class\"]\n",
    "\n",
    "X_train, X_test, y_train, y_test = train_test_split(X, y, test_size=0.3, random_state=55)\n",
    "rf_model = RandomForestClassifier().fit(X_train, y_train)\n",
    "y_preds = rf_model.predict(X_test)\n",
    "report = classification_report(y_preds, y_test)\n",
    "print(\"Classification report: \\n\\n\" + str(report))"
   ]
  },
  {
   "cell_type": "markdown",
   "metadata": {},
   "source": [
    "### KFold Cross Validation"
   ]
  },
  {
   "cell_type": "code",
   "execution_count": 3,
   "metadata": {},
   "outputs": [],
   "source": [
    "from sklearn.metrics import make_scorer, accuracy_score, precision_score, recall_score, f1_score\n",
    "\n",
    "scoring = {'accuracy' : make_scorer(accuracy_score), \n",
    "           'precision' : make_scorer(precision_score),\n",
    "           'recall' : make_scorer(recall_score), \n",
    "           'f1_score' : make_scorer(f1_score)}"
   ]
  },
  {
   "cell_type": "code",
   "execution_count": 5,
   "metadata": {},
   "outputs": [],
   "source": [
    "X = df.drop([\"Class\"], axis = 1)\n",
    "y = df[\"Class\"]"
   ]
  },
  {
   "cell_type": "code",
   "execution_count": 12,
   "metadata": {},
   "outputs": [],
   "source": [
    "cross_list = []\n",
    "from sklearn.model_selection import cross_val_score\n",
    "from sklearn.model_selection import KFold\n",
    "\n",
    "kfold = KFold(n_splits=10, shuffle=True, random_state=42)\n",
    "Kfold_model = RandomForestClassifier(n_estimators=50)\n",
    "\n",
    "for i in range(0,10):\n",
    "    cross_list.append(cross_val_score(Kfold_model, X, y, cv = kfold, scoring=make_scorer(accuracy_score)).mean())\n",
    "\n"
   ]
  },
  {
   "cell_type": "code",
   "execution_count": 13,
   "metadata": {},
   "outputs": [
    {
     "data": {
      "text/plain": [
       "0.792"
      ]
     },
     "execution_count": 13,
     "metadata": {},
     "output_type": "execute_result"
    }
   ],
   "source": [
    "total = 0\n",
    "avg = 0\n",
    "\n",
    "for i in range(0,10):\n",
    "    total += cross_list[i]\n",
    "\n",
    "\n",
    "avg = total / 10\n",
    "avg"
   ]
  },
  {
   "cell_type": "code",
   "execution_count": null,
   "metadata": {},
   "outputs": [],
   "source": []
  }
 ],
 "metadata": {
  "kernelspec": {
   "display_name": "Python 3.9.7 ('base')",
   "language": "python",
   "name": "python3"
  },
  "language_info": {
   "codemirror_mode": {
    "name": "ipython",
    "version": 3
   },
   "file_extension": ".py",
   "mimetype": "text/x-python",
   "name": "python",
   "nbconvert_exporter": "python",
   "pygments_lexer": "ipython3",
   "version": "3.9.7"
  },
  "orig_nbformat": 4,
  "vscode": {
   "interpreter": {
    "hash": "fa1ba05c6c28d7b2679067ee640aaa932a4bee9004ef693723bf8e1283044cca"
   }
  }
 },
 "nbformat": 4,
 "nbformat_minor": 2
}
